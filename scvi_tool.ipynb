{
 "cells": [
  {
   "cell_type": "code",
   "execution_count": null,
   "metadata": {},
   "outputs": [],
   "source": [
    "# This notebook performs clustering and DE analysis for Ted's scRNAseq data\n",
    "import pandas as pd\n",
    "import numpy as np\n",
    "import scanpy as sc\n",
    "import seaborn as sns\n",
    "import matplotlib.pyplot as plt\n",
    "import scipy\n",
    "import torch\n",
    "import scvi\n",
    "import anndata as ad\n",
    "from collections import Counter\n",
    "\n",
    "import warnings\n",
    "warnings.simplefilter(action='ignore', category=FutureWarning)"
   ]
  },
  {
   "cell_type": "code",
   "execution_count": null,
   "metadata": {},
   "outputs": [],
   "source": [
    "sc.settings.verbosity = 2\n",
    "sc.logging.print_header()\n",
    "sc.set_figure_params(dpi=150, facecolor='white', figsize=(8, 8), vector_friendly=False, fontsize=12)\n",
    "\n",
    "torch.set_float32_matmul_precision(\"high\")\n",
    "scvi.settings.seed = 0"
   ]
  },
  {
   "cell_type": "code",
   "execution_count": null,
   "metadata": {},
   "outputs": [],
   "source": [
    "input_folder = '.../Desktop/BasicResults/'\n",
    "out_folder = '.../Desktop/Integration/'"
   ]
  },
  {
   "cell_type": "code",
   "execution_count": null,
   "metadata": {},
   "outputs": [],
   "source": [
    "adata_e12 = sc.read_h5ad(filename=\"{}/E12p5.h5ad\".format(input_folder))\n",
    "adata_e12.obs['sample'] = 'E12p5'\n",
    "adata_e12.obs['group'] = 'Palate'\n",
    "adata_e12"
   ]
  },
  {
   "cell_type": "code",
   "execution_count": null,
   "metadata": {},
   "outputs": [],
   "source": [
    "type(adata_e12.obsm['spatial'])"
   ]
  },
  {
   "cell_type": "code",
   "execution_count": null,
   "metadata": {},
   "outputs": [],
   "source": [
    "adata_e13 = sc.read_h5ad(filename=\"{}/E13p5.h5ad\".format(input_folder))\n",
    "adata_e13.obs['sample'] = 'E13p5'\n",
    "adata_e13.obs['group'] = 'Palate'\n",
    "adata_e13"
   ]
  },
  {
   "cell_type": "code",
   "execution_count": null,
   "metadata": {},
   "outputs": [],
   "source": [
    "adata_e15 = sc.read_h5ad(filename=\"{}/E15p5.h5ad\".format(input_folder))\n",
    "adata_e15.obs['sample'] = 'E15p5'\n",
    "adata_e15.obs['group'] = 'Palate'\n",
    "adata_e15"
   ]
  },
  {
   "cell_type": "code",
   "execution_count": null,
   "metadata": {},
   "outputs": [],
   "source": [
    "adata = ad.concat([adata_e12, adata_e13, adata_e15], merge=\"same\")\n",
    "adata"
   ]
  },
  {
   "cell_type": "code",
   "execution_count": null,
   "metadata": {},
   "outputs": [],
   "source": [
    "adata.raw = adata"
   ]
  },
  {
   "cell_type": "code",
   "execution_count": null,
   "metadata": {},
   "outputs": [],
   "source": [
    "adata.layers['counts'] = adata.X"
   ]
  },
  {
   "cell_type": "code",
   "execution_count": null,
   "metadata": {},
   "outputs": [],
   "source": [
    "scvi.model.SCVI.setup_anndata(\n",
    "    adata,\n",
    "    continuous_covariate_keys=[\"pct_counts_mt\", \"total_counts\"],\n",
    "    batch_key=\"sample\",\n",
    "    layer=\"counts\")"
   ]
  },
  {
   "cell_type": "code",
   "execution_count": null,
   "metadata": {},
   "outputs": [],
   "source": [
    "model = scvi.model.SCVI(adata, n_layers=2, n_hidden=30)"
   ]
  },
  {
   "cell_type": "code",
   "execution_count": null,
   "metadata": {},
   "outputs": [],
   "source": [
    "model.train(use_gpu=True)"
   ]
  },
  {
   "cell_type": "code",
   "execution_count": null,
   "metadata": {},
   "outputs": [],
   "source": [
    "SCVI_LATENT_KEY = \"X_scVI\"\n",
    "SCVI_NORMALIZED_KEY = \"scvi_normalized\"\n",
    "SCVI_MODEL_PATH = \"scvi_model\""
   ]
  },
  {
   "cell_type": "code",
   "execution_count": null,
   "metadata": {},
   "outputs": [],
   "source": [
    "outpath = \"{}\\\\scvi_integration\".format(out_folder)\n",
    "model.save(\"{}\\\\{}\".format(outpath, SCVI_MODEL_PATH), overwrite=True)"
   ]
  },
  {
   "cell_type": "code",
   "execution_count": null,
   "metadata": {},
   "outputs": [],
   "source": [
    "# save the latent representation\n",
    "adata.obsm[SCVI_LATENT_KEY] = model.get_latent_representation()\n",
    "# save normalized expression values\n",
    "adata.layers[SCVI_NORMALIZED_KEY] = model.get_normalized_expression(library_size=10e4)"
   ]
  },
  {
   "cell_type": "code",
   "execution_count": null,
   "metadata": {},
   "outputs": [],
   "source": [
    "sc.pp.neighbors(adata, use_rep=SCVI_LATENT_KEY, n_neighbors=20)\n",
    "sc.tl.umap(adata, min_dist=0.3)"
   ]
  },
  {
   "cell_type": "code",
   "execution_count": null,
   "metadata": {},
   "outputs": [],
   "source": [
    "sc.pl.umap(adata, color=[\"sample\"], frameon=True, ncols=1, size=1.0, palette=sc.pl.palettes.default_102)"
   ]
  },
  {
   "cell_type": "code",
   "execution_count": null,
   "metadata": {},
   "outputs": [],
   "source": [
    "sc.pl.umap(adata, color=[\"Krt14\", \"Krt5\", \"Krt15\"], frameon=True, ncols=4, size=1.5, color_map='hot', layer='scvi_normalized')"
   ]
  },
  {
   "cell_type": "code",
   "execution_count": null,
   "metadata": {},
   "outputs": [],
   "source": [
    "# neighbors were already computed using scVI\n",
    "SCVI_CLUSTERS_KEY = \"leiden_scVI\"\n",
    "sc.tl.leiden(adata, key_added=SCVI_CLUSTERS_KEY, resolution=0.5)"
   ]
  },
  {
   "cell_type": "code",
   "execution_count": null,
   "metadata": {},
   "outputs": [],
   "source": [
    "sc.pl.umap(\n",
    "    adata,\n",
    "    color=[SCVI_CLUSTERS_KEY],\n",
    "    frameon=True,\n",
    "    size=1.0,\n",
    "    palette=sc.pl.palettes.default_102\n",
    ")"
   ]
  },
  {
   "cell_type": "code",
   "execution_count": null,
   "metadata": {},
   "outputs": [],
   "source": [
    "de_df = model.differential_expression(\n",
    "    groupby=\"leiden_scVI\",\n",
    ")\n",
    "de_df.head()"
   ]
  },
  {
   "cell_type": "code",
   "execution_count": null,
   "metadata": {},
   "outputs": [],
   "source": [
    "markers = {}\n",
    "cats = adata.obs['leiden_scVI'].cat.categories\n",
    "for i, c in enumerate(cats):\n",
    "    cid = f\"{c} vs Rest\"\n",
    "    cell_type_df = de_df.loc[de_df.comparison == cid]\n",
    "\n",
    "    cell_type_df = cell_type_df[cell_type_df.lfc_mean > 0]\n",
    "\n",
    "    cell_type_df = cell_type_df[cell_type_df[\"bayes_factor\"] > 2.5]\n",
    "    cell_type_df = cell_type_df[cell_type_df[\"non_zeros_proportion1\"] > 0.1]\n",
    "\n",
    "    markers[c] = cell_type_df.index.tolist()[:2]"
   ]
  },
  {
   "cell_type": "code",
   "execution_count": null,
   "metadata": {},
   "outputs": [],
   "source": [
    "sc.tl.dendrogram(adata, groupby=\"leiden_scVI\", use_rep=\"X_scVI\")"
   ]
  },
  {
   "cell_type": "code",
   "execution_count": null,
   "metadata": {},
   "outputs": [],
   "source": [
    "sc.pl.dotplot(\n",
    "    adata,\n",
    "    markers,\n",
    "    groupby=\"leiden_scVI\",\n",
    "    dendrogram=True,\n",
    "    color_map=\"Blues\",\n",
    "    swap_axes=False,\n",
    "    use_raw=True,\n",
    "    standard_scale=\"var\",\n",
    "    save='_DE_dotplot',\n",
    ")"
   ]
  },
  {
   "cell_type": "code",
   "execution_count": null,
   "metadata": {},
   "outputs": [],
   "source": [
    "sc.pl.heatmap(\n",
    "    adata,\n",
    "    markers,\n",
    "    groupby=\"leiden_scVI\",\n",
    "    layer=\"scvi_normalized\",\n",
    "    standard_scale=\"var\",\n",
    "    dendrogram=True,\n",
    "    figsize=(16, 10),\n",
    "    cmap='inferno',\n",
    "    swap_axes=True,\n",
    "    show_gene_labels=True,\n",
    "    save='_DE_heatmap'\n",
    ")"
   ]
  },
  {
   "cell_type": "code",
   "execution_count": null,
   "metadata": {},
   "outputs": [],
   "source": [
    "import csv\n",
    "with open('{}\\\\DE_genes.csv'.format(out_folder), 'w') as csv_file:  \n",
    "    writer = csv.writer(csv_file)\n",
    "    for key, value in markers.items():\n",
    "       writer.writerow([key, value])"
   ]
  },
  {
   "cell_type": "code",
   "execution_count": null,
   "metadata": {},
   "outputs": [],
   "source": [
    "adata.obs"
   ]
  },
  {
   "cell_type": "code",
   "execution_count": null,
   "metadata": {},
   "outputs": [],
   "source": [
    "adata12 = adata[adata.obs['sample'].isin(['E12p5roi2'])]\n",
    "adata13 = adata[adata.obs['sample'].isin(['E13p5roi1'])]\n",
    "adata15 = adata[adata.obs['sample'].isin(['E15p5roi1'])]"
   ]
  },
  {
   "cell_type": "code",
   "execution_count": null,
   "metadata": {},
   "outputs": [],
   "source": [
    "sc.pl.spatial(adata12, color=['leiden_scVI'], spot_size=72, show=True, palette=sc.pl.palettes.default_102)"
   ]
  },
  {
   "cell_type": "code",
   "execution_count": null,
   "metadata": {},
   "outputs": [],
   "source": [
    "sc.pl.spatial(adata13, color=['leiden_scVI'], spot_size=72, show=True, palette=sc.pl.palettes.default_102)"
   ]
  },
  {
   "cell_type": "code",
   "execution_count": null,
   "metadata": {},
   "outputs": [],
   "source": [
    "sc.pl.spatial(adata15, color=['leiden_scVI'], spot_size=75, show=True, palette=sc.pl.palettes.default_102)"
   ]
  },
  {
   "cell_type": "code",
   "execution_count": null,
   "metadata": {},
   "outputs": [],
   "source": [
    "adata.write_h5ad('{}/240625_Palate_integrate_3.h5ad'.format(out_folder), compression='gzip')"
   ]
  }
 ],
 "metadata": {
  "kernelspec": {
   "display_name": "Python 3 (ipykernel)",
   "language": "python",
   "name": "python3"
  },
  "language_info": {
   "codemirror_mode": {
    "name": "ipython",
    "version": 3
   },
   "file_extension": ".py",
   "mimetype": "text/x-python",
   "name": "python",
   "nbconvert_exporter": "python",
   "pygments_lexer": "ipython3",
   "version": "3.12.2"
  }
 },
 "nbformat": 4,
 "nbformat_minor": 4
}
