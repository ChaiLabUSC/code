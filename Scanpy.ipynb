{
 "cells": [
  {
   "cell_type": "code",
   "execution_count": null,
   "metadata": {},
   "outputs": [],
   "source": [
    "# Tested with scanpy 1.10.0, numpy 1.24.4, scipy 1.9.1, pandas 2.2.2, scikit-learn==1.5.1, and matplotlib 3.9.1\n",
    "import pandas as pd\n",
    "import numpy as np\n",
    "import scanpy as sc\n",
    "import scipy as sp\n",
    "import matplotlib as mpl\n",
    "\n",
    "import warnings\n",
    "warnings.simplefilter(action='ignore', category=FutureWarning)\n",
    "warnings.simplefilter(action='ignore', category=RuntimeWarning)\n",
    "warnings.simplefilter(action='ignore', category=UserWarning)"
   ]
  },
  {
   "cell_type": "code",
   "execution_count": null,
   "metadata": {},
   "outputs": [],
   "source": [
    "sc.settings.verbosity = 0\n",
    "sc.logging.print_header()\n",
    "sc.set_figure_params(dpi=120, facecolor='white', figsize=(6, 6), vector_friendly=False)      # Set vector_friendly to True to rasterize the entire image \n",
    "mpl.rcParams['pdf.fonttype'] = 42                                                            # Vectorize words instead of letters"
   ]
  },
  {
   "cell_type": "markdown",
   "metadata": {},
   "source": [
    "#### Load SG data to an anndata object \n",
    "- For the details about the design of AnnData object, please see [Getting started with anndata](https://anndata.readthedocs.io/en/latest/tutorials/notebooks/getting-started.html) tutorial."
   ]
  },
  {
   "cell_type": "code",
   "execution_count": null,
   "metadata": {},
   "outputs": [],
   "source": [
    "project_folder = '.../Desktop/BasicResults/'\n",
    "exp_file = 'CellxGene.csv'\n",
    "coord_file = 'CellCoordinates.csv'\n",
    "species = 'Mouse'                           # Optional\n",
    "tissue = 'Embryonic Head'                            # Optional\n",
    "preservation_method = 'Fixed frozen'        # Optional\n",
    "panel_name = 'Craniofaicaldev'               # Optional"
   ]
  },
  {
   "cell_type": "code",
   "execution_count": null,
   "metadata": {},
   "outputs": [],
   "source": [
    "# Load the cell-by-gene count matrix\n",
    "adata = sc.read_csv(filename='{}/{}'.format(project_folder, exp_file), delimiter=',', first_column_names=True, dtype='int')\n",
    "adata"
   ]
  },
  {
   "cell_type": "code",
   "execution_count": null,
   "metadata": {},
   "outputs": [],
   "source": [
    "# Load the meta information\n",
    "adata.uns['species'] = species\n",
    "adata.uns['tissue'] = tissue\n",
    "adata.uns['preservation_method'] = preservation_method\n",
    "adata.uns['panel_name'] = panel_name\n",
    "adata"
   ]
  },
  {
   "cell_type": "code",
   "execution_count": null,
   "metadata": {},
   "outputs": [],
   "source": [
    "# Read the cell spatial metadata\n",
    "cc = pd.read_csv('{}/{}'.format(project_folder, coord_file))\n",
    "cc['label'] = cc['label'].astype('str')"
   ]
  },
  {
   "cell_type": "code",
   "execution_count": null,
   "metadata": {},
   "outputs": [],
   "source": [
    "# Add cell spatial metadata to the obs table\n",
    "adata.obs = adata.obs.merge(cc, left_index=True, right_on='label')\n",
    "adata.obs"
   ]
  },
  {
   "cell_type": "code",
   "execution_count": null,
   "metadata": {},
   "outputs": [],
   "source": [
    "# Add cell coordinates to the spatial slot of obsm table\n",
    "coords = np.empty((len(cc.center_x),2), dtype=np.uint32)\n",
    "for i in range(len(cc.center_x)):\n",
    "    coords[i,:] = (cc.iloc[i].center_x, cc.iloc[i].center_y)\n",
    "adata.obsm['spatial'] = coords"
   ]
  },
  {
   "cell_type": "markdown",
   "metadata": {},
   "source": [
    "#### Check basic data stats"
   ]
  },
  {
   "cell_type": "code",
   "execution_count": null,
   "metadata": {},
   "outputs": [],
   "source": [
    "# Sanity check the highest expressing genes\n",
    "sc.pl.highest_expr_genes(adata, n_top=20, )"
   ]
  },
  {
   "cell_type": "code",
   "execution_count": null,
   "metadata": {},
   "outputs": [],
   "source": [
    "sc.pp.calculate_qc_metrics(adata, inplace=True, log1p=True, percent_top=[50])\n",
    "\n",
    "# Plot the number of genes per cell and total counts per cell\n",
    "sc.pl.violin(adata, ['n_genes_by_counts', 'total_counts'], jitter=5, multi_panel=True)"
   ]
  },
  {
   "cell_type": "code",
   "execution_count": null,
   "metadata": {},
   "outputs": [],
   "source": [
    "# Violin plot of area \n",
    "sc.pl.violin(adata, ['area'], jitter=5)"
   ]
  },
  {
   "cell_type": "code",
   "execution_count": null,
   "metadata": {},
   "outputs": [],
   "source": [
    "# Check othe details about the raw data, as desired\n",
    "# For example, check genes expressed in less than 1000 cells\n",
    "adata.var.loc[adata.var['n_cells_by_counts'] < 1000]"
   ]
  },
  {
   "cell_type": "code",
   "execution_count": null,
   "metadata": {},
   "outputs": [],
   "source": [
    "# Save the unpreprocessed anndata object to a h5ad file\n",
    "filename = exp_file.split('.')[0]\n",
    "adata.write_h5ad('{}/{}_unpreprocessed.h5ad'.format(project_folder, filename))"
   ]
  },
  {
   "cell_type": "markdown",
   "metadata": {},
   "source": [
    "#### Preprocess the data to filter genes and cells"
   ]
  },
  {
   "cell_type": "code",
   "execution_count": null,
   "metadata": {},
   "outputs": [],
   "source": [
    "# Identify appropriate cutoffs based on min/max transcripts and min/max area per cell\n",
    "# Check the distribution plots above to identify cutoffs\n",
    "# A method-based way to assign cutoffs is below (to use, uncomment the code first).\n",
    "print('Min and max transcripts per cell: {}, {}'.format(np.min(adata.obs['total_counts']), np.max(adata.obs['total_counts'])))\n",
    "print('Min and max area per cell: {}, {}'.format(np.min(adata.obs['area']), np.max(adata.obs['area'])))\n",
    "min_tc_cutoff = 20\n",
    "#max_tc_cutoff = 1200\n",
    "min_area_cutoff = 347\n",
    "#max_area_cutoff = 22000"
   ]
  },
  {
   "cell_type": "code",
   "execution_count": null,
   "metadata": {},
   "outputs": [],
   "source": [
    "# Filter cells and genes based on cutoffs\n",
    "sc.pp.filter_cells(adata, min_counts=min_tc_cutoff)     # Filter cells by min total transcripts per cell\n",
    "#sc.pp.filter_cells(adata, max_counts=max_tc_cutoff)     # Filter cells by max total transcripts per cell\n",
    "sc.pp.filter_cells(adata, min_genes=7)                 # Filter cells by min number of genes expressed\n",
    "#sc.pp.filter_genes(adata, min_cells=1000)                # Filter genes by min number of cells expressed in\n",
    "adata"
   ]
  },
  {
   "cell_type": "code",
   "execution_count": null,
   "metadata": {},
   "outputs": [],
   "source": [
    "# Filter cells based on the area cutoffs\n",
    "adata = adata[adata.obs['area'] > min_area_cutoff,:]    # Filter cells by min area per cell\n",
    "#adata = adata[adata.obs['area'] < max_area_cutoff,:]    # Filter cells by max area per cell\n",
    "adata"
   ]
  },
  {
   "cell_type": "code",
   "execution_count": null,
   "metadata": {},
   "outputs": [],
   "source": [
    "# One way to determine the cutoffs is based on (median + ratio * MAD), a method used in the scRNAseq data analysis\n",
    "# Please update the MAD ratios as needed\n",
    "# median_tc = np.median(adata.obs['total_counts'])\n",
    "# mad_tc = sp.stats.median_abs_deviation(adata.obs['total_counts'])\n",
    "# median_area = np.median(adata.obs['area'])\n",
    "# mad_area = sp.stats.median_abs_deviation(adata.obs['area'])\n",
    "# print('median total counts: {}'.format(median_tc))\n",
    "# print('MAD total counts: {}'.format(mad_tc))\n",
    "# print('median area: {}'.format(median_area))\n",
    "# print('MAD area: {}'.format(mad_area))\n",
    "\n",
    "# min_tc_cutoff = median_tc - 2.5 * mad_tc\n",
    "# max_tc_cutoff = median_tc + 8.0 * mad_tc\n",
    "# min_area_cutoff = median_area - 3.0 * mad_area\n",
    "# max_area_cutoff = median_area + 7.0 * mad_area\n",
    "# print('min and max total count cutoff: {}, {}'.format(min_tc_cutoff, max_tc_cutoff))\n",
    "# print('min and max area cutoff: {}, {}'.format(min_area_cutoff, max_area_cutoff))"
   ]
  },
  {
   "cell_type": "code",
   "execution_count": null,
   "metadata": {},
   "outputs": [],
   "source": [
    "# Save the preprocessed anndata object to a h5ad file\n",
    "adata.write_h5ad('{}/{}_preprocessed.h5ad'.format(project_folder, filename))"
   ]
  },
  {
   "cell_type": "markdown",
   "metadata": {},
   "source": [
    "#### Normalize and log transform the data"
   ]
  },
  {
   "cell_type": "code",
   "execution_count": null,
   "metadata": {},
   "outputs": [],
   "source": [
    "# Save raw counts as layer, then perform CPM normalization and log transformation\n",
    "adata.layers[\"counts\"] = adata.X.copy()     # preserve counts\n",
    "# adata = adata.copy()                      # deepcopy the object, optional\n",
    "sc.pp.normalize_total(adata, target_sum=1e6)\n",
    "sc.pp.log1p(adata)\n",
    "adata.raw = adata                           # freeze the state in .raw"
   ]
  },
  {
   "cell_type": "code",
   "execution_count": null,
   "metadata": {},
   "outputs": [],
   "source": [
    "# Identifying highly-variable genes is optional depending on your panel size and is often not needed.\n",
    "# sc.pp.highly_variable_genes(adata, n_top_genes=5)"
   ]
  },
  {
   "cell_type": "code",
   "execution_count": null,
   "metadata": {},
   "outputs": [],
   "source": [
    "# Filter the adata with only highly variable genes\n",
    "# adata = adata[:, adata.var.highly_variable]"
   ]
  },
  {
   "cell_type": "markdown",
   "metadata": {},
   "source": [
    "#### Perform dimensionality reduction"
   ]
  },
  {
   "cell_type": "code",
   "execution_count": null,
   "metadata": {},
   "outputs": [],
   "source": [
    "# Regression and scaling are optional as they are not recommended in the newest version of scanpy\n",
    "# sc.pp.regress_out(adata, ['total_counts'])\n",
    "sc.pp.scale(adata, max_value=10)            # optional\n",
    "sc.tl.pca(adata, svd_solver='arpack')\n",
    "sc.pl.pca(adata, color='Barx1')"
   ]
  },
  {
   "cell_type": "code",
   "execution_count": null,
   "metadata": {},
   "outputs": [],
   "source": [
    "sc.pl.pca_variance_ratio(adata, log=True)"
   ]
  },
  {
   "cell_type": "markdown",
   "metadata": {},
   "source": [
    "#### Compute and embed the neighborhood graph"
   ]
  },
  {
   "cell_type": "code",
   "execution_count": null,
   "metadata": {},
   "outputs": [],
   "source": [
    "sc.pp.neighbors(adata, n_neighbors=20, n_pcs=30)"
   ]
  },
  {
   "cell_type": "code",
   "execution_count": null,
   "metadata": {},
   "outputs": [],
   "source": [
    "sc.tl.umap(adata, min_dist=0.3)"
   ]
  },
  {
   "cell_type": "markdown",
   "metadata": {},
   "source": [
    "#### Cluster the cells"
   ]
  },
  {
   "cell_type": "code",
   "execution_count": null,
   "metadata": {},
   "outputs": [],
   "source": [
    "# Perform leiden clustering\n",
    "sc.tl.leiden(adata, resolution=1)"
   ]
  },
  {
   "cell_type": "code",
   "execution_count": null,
   "metadata": {},
   "outputs": [],
   "source": [
    "sc.pl.umap(adata, color=['leiden'], ncols=1, size=5)"
   ]
  },
  {
   "cell_type": "markdown",
   "metadata": {},
   "source": [
    "#### Plot the cells spatially colored by the clusters"
   ]
  },
  {
   "cell_type": "code",
   "execution_count": null,
   "metadata": {},
   "outputs": [],
   "source": [
    "sc.pl.spatial(adata, color=['leiden'], spot_size=100, palette=sc.pl.palettes.default_20)"
   ]
  },
  {
   "cell_type": "markdown",
   "metadata": {},
   "source": [
    "#### Identify differentially expressed genes"
   ]
  },
  {
   "cell_type": "code",
   "execution_count": null,
   "metadata": {},
   "outputs": [],
   "source": [
    "# Identify differential expressed genes\n",
    "sc.tl.rank_genes_groups(adata, 'leiden', method='wilcoxon')\n",
    "sc.pl.rank_genes_groups(adata, n_genes=25, sharey=False)"
   ]
  },
  {
   "cell_type": "code",
   "execution_count": null,
   "metadata": {
    "scrolled": true
   },
   "outputs": [],
   "source": [
    "sc.tl.dendrogram(adata, groupby=\"leiden\")\n",
    "sc.pl.rank_genes_groups_dotplot(adata, groupby=\"leiden\", standard_scale=\"var\", n_genes=4)"
   ]
  },
  {
   "cell_type": "code",
   "execution_count": null,
   "metadata": {
    "scrolled": true
   },
   "outputs": [],
   "source": [
    "# Display top 5 differential expressed genes for every cluster\n",
    "pd.DataFrame(adata.uns[\"rank_genes_groups\"][\"names\"]).head(5)"
   ]
  },
  {
   "cell_type": "code",
   "execution_count": null,
   "metadata": {},
   "outputs": [],
   "source": [
    "# Save the anndata object to a h5ad file\n",
    "adata.write_h5ad('{}/{}_leiden_reso_1.h5ad'.format(project_folder, filename))"
   ]
  },
  {
   "cell_type": "code",
   "execution_count": null,
   "metadata": {},
   "outputs": [],
   "source": [
    "# Subset the AnnData object to include only specific clusters\n",
    "adata_filter = adata[adata.obs['leiden'].isin([\"1\", \"2\", \"3\"...])] "
   ]
  },
  {
   "cell_type": "code",
   "execution_count": null,
   "metadata": {},
   "outputs": [],
   "source": [
    "adata_filter.write_h5ad('{}/{}_subset_leiden_reso_1.h5ad'.format(project_folder, filename))"
   ]
  }
 ],
 "metadata": {
  "kernelspec": {
   "display_name": "Python 3 (ipykernel)",
   "language": "python",
   "name": "python3"
  },
  "language_info": {
   "codemirror_mode": {
    "name": "ipython",
    "version": 3
   },
   "file_extension": ".py",
   "mimetype": "text/x-python",
   "name": "python",
   "nbconvert_exporter": "python",
   "pygments_lexer": "ipython3",
   "version": "3.12.2"
  }
 },
 "nbformat": 4,
 "nbformat_minor": 4
}
